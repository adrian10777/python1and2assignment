{
 "cells": [
  {
   "cell_type": "code",
   "execution_count": 1,
   "metadata": {},
   "outputs": [
    {
     "name": "stdout",
     "output_type": "stream",
     "text": [
      "senior.\n"
     ]
    }
   ],
   "source": [
    "yourage = int(input('What’s your age?'))\n",
    "if yourage < 18:\n",
    "    print('kids')\n",
    "elif yourage >= 18 and yourage < 65:\n",
    "    print('adults')\n",
    "else:\n",
    "    if yourage >= 65:\n",
    "        print('senior.')"
   ]
  }
 ],
 "metadata": {
  "interpreter": {
   "hash": "bdc952c83ab700cb2a2ae5b1879c12b8874e08aacc21ce68ea28ff16932fb5f6"
  },
  "kernelspec": {
   "display_name": "Python 3.9.7 64-bit",
   "language": "python",
   "name": "python3"
  },
  "language_info": {
   "codemirror_mode": {
    "name": "ipython",
    "version": 3
   },
   "file_extension": ".py",
   "mimetype": "text/x-python",
   "name": "python",
   "nbconvert_exporter": "python",
   "pygments_lexer": "ipython3",
   "version": "3.9.7"
  },
  "orig_nbformat": 4
 },
 "nbformat": 4,
 "nbformat_minor": 2
}
