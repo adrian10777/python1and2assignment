{
 "cells": [
  {
   "cell_type": "code",
   "execution_count": 1,
   "metadata": {},
   "outputs": [
    {
     "name": "stdout",
     "output_type": "stream",
     "text": [
      "senior.\n"
     ]
    }
   ],
   "source": [
    "yourage = int(input('What’s your age?'))\n",
    "if yourage < 18:\n",
    "    print('kids')\n",
    "elif yourage >= 18 and yourage < 65:\n",
    "    print('adults')\n",
    "else:\n",
    "    if yourage >= 65:\n",
    "        print('senior.')"
   ]
  },
  {
   "cell_type": "code",
   "execution_count": null,
   "metadata": {},
   "outputs": [],
   "source": [
    "# HINT::\n",
    "# An else after an if runs if the if didn’t\n",
    "# An else after a for runs if the for didn’t break\n",
    "\n",
    "for Number in range (1, 101):\n",
    "    count = 0\n",
    "    for i in range(2, (Number//2 + 1)):\n",
    "        if(Number % i == 0):\n",
    "            count = count + 1\n",
    "            break\n",
    "\n",
    "    if (count == 0 and Number != 1):\n",
    "        print(\" %d\" %Number, end = '  ')\n",
    "\n",
    "# count = 0 is a counter. counter used for multiple things, line 9 adds # to counter. if ran through line 7 it will increment value by 1 in line 9\n",
    "# 2 start, stop (number//2 + 1)) \n",
    "#if(Number % i == 0): (ex #2) if its modulo by 2 it will enter line 9 +1, and break unless u have remainders which\n",
    "#goes in to line 12 if 2nd for loop breaks if, if statement inside for loop comes out true with R of 0\n",
    "# if it never finds R of 0 it goes into last if statement\n",
    "#last if statement says if count =0, whatevery # you are currently on if its not = 1 you are going to print # out.\n",
    "        \n",
    "        \n",
    "\n"
   ]
  },
  {
   "cell_type": "code",
   "execution_count": 1,
   "metadata": {},
   "outputs": [
    {
     "ename": "IndentationError",
     "evalue": "expected an indented block (Temp/ipykernel_31608/354616328.py, line 18)",
     "output_type": "error",
     "traceback": [
      "\u001b[1;36m  File \u001b[1;32m\"C:\\Users\\adria\\AppData\\Local\\Temp/ipykernel_31608/354616328.py\"\u001b[1;36m, line \u001b[1;32m18\u001b[0m\n\u001b[1;33m    return False\u001b[0m\n\u001b[1;37m    ^\u001b[0m\n\u001b[1;31mIndentationError\u001b[0m\u001b[1;31m:\u001b[0m expected an indented block\n"
     ]
    }
   ],
   "source": [
    "\n",
    "\n",
    "for x in range(1,1000):\n",
    "    cubes = x**3\n",
    "    if cubes > 1000:\n",
    "        break\n",
    "    print(cubes)\n",
    "\n",
    "#x will hold 1 and then 2, etc until it gets to 1,000. 2x2x2, 3x3x3, using cubes = x**3 etc until u get 1000\n",
    "\n",
    "\n",
    "            "
   ]
  },
  {
   "cell_type": "code",
   "execution_count": null,
   "metadata": {},
   "outputs": [],
   "source": [
    "#Create a function that, given a list as a parameter, finds the even numbers inside the list. The function should then return a list.\n",
    "#Example:\n",
    "#Input: [2, 7, 10, 11, 12]\n",
    "#Output: [2, 10, 12]"
   ]
  }
 ],
 "metadata": {
  "interpreter": {
   "hash": "bdc952c83ab700cb2a2ae5b1879c12b8874e08aacc21ce68ea28ff16932fb5f6"
  },
  "kernelspec": {
   "display_name": "Python 3.9.7 64-bit",
   "language": "python",
   "name": "python3"
  },
  "language_info": {
   "codemirror_mode": {
    "name": "ipython",
    "version": 3
   },
   "file_extension": ".py",
   "mimetype": "text/x-python",
   "name": "python",
   "nbconvert_exporter": "python",
   "pygments_lexer": "ipython3",
   "version": "3.9.7"
  },
  "orig_nbformat": 4
 },
 "nbformat": 4,
 "nbformat_minor": 2
}
